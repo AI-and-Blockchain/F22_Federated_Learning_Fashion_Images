{
 "cells": [
  {
   "cell_type": "code",
   "execution_count": 78,
   "metadata": {},
   "outputs": [],
   "source": [
    "import numpy as np\n",
    "from Pyfhel import Pyfhel, PyCtxt"
   ]
  },
  {
   "cell_type": "code",
   "execution_count": 79,
   "metadata": {},
   "outputs": [],
   "source": [
    "def nomralize(x):\n",
    "    return (x - np.mean(x)) / np.std(x)\n",
    "\n",
    "def encrypt_data(data_provider, data):\n",
    "    s_encrypted_data = np.ndarray(data.shape, dtype=PyCtxt)\n",
    "    for i in range(len(data)):\n",
    "        for j in range(len(data[i])):\n",
    "            s_encrypted_data[i][j] = data_provider.encrypt(data[i][j])\n",
    "    return s_encrypted_data\n",
    "\n",
    "def decrypt_data(data_provider, data):\n",
    "    s_decrypted_data = np.ndarray(data.shape, dtype=float)\n",
    "    for i in range(len(data)):\n",
    "        for j in range(len(data[i])):\n",
    "            s_decrypted_data[i][j] = data_provider.decrypt(data[i][j])[0]\n",
    "    return s_decrypted_data"
   ]
  },
  {
   "cell_type": "code",
   "execution_count": 80,
   "metadata": {},
   "outputs": [],
   "source": [
    "def HEmatmult(a, b):\n",
    "    return np.matmul(a, b)\n",
    "\n",
    "def HEreduce_mean(a, axis=None):\n",
    "    if axis is None:\n",
    "        return np.sum(a)/a.size\n",
    "    return np.sum(a, axis=axis)/a.shape[axis]\n",
    "\n",
    "def HEreduce_sum(a, axis=None):\n",
    "    return np.sum(a, axis=axis)\n",
    "\n",
    "def HEexp(a, n=4):\n",
    "    d = 1.0\n",
    "    rt = 0.0\n",
    "    for i in range(n):\n",
    "        rt += d/np.math.factorial(i)\n",
    "        d = a*d\n",
    "    return rt\n",
    "\n",
    "def HEsquare(a):\n",
    "    return a**2"
   ]
  },
  {
   "cell_type": "code",
   "execution_count": 81,
   "metadata": {},
   "outputs": [
    {
     "data": {
      "text/plain": [
       "<ckks Pyfhel obj at 0x21eed60d840, [pk:Y, sk:Y, rtk:-, rlk:-, contx(n=8192, t=0, sec=128, qi=[30, 30, 30, 30, 30], scale=1073741824.0, )]>"
      ]
     },
     "execution_count": 81,
     "metadata": {},
     "output_type": "execute_result"
    }
   ],
   "source": [
    "c1 = Pyfhel(context_params={'scheme':'ckks', 'n':2**13, 'scale':2**30, 'qi_sizes':[30]*5})\n",
    "# generate key pair\n",
    "c1.keyGen()\n",
    "c1"
   ]
  },
  {
   "cell_type": "code",
   "execution_count": 82,
   "metadata": {},
   "outputs": [
    {
     "data": {
      "text/plain": [
       "<ckks Pyfhel obj at 0x21ee61bf000, [pk:Y, sk:-, rtk:-, rlk:-, contx(n=8192, t=0, sec=128, qi=[30, 30, 30, 30, 30], scale=1073741824.0, )]>"
      ]
     },
     "execution_count": 82,
     "metadata": {},
     "output_type": "execute_result"
    }
   ],
   "source": [
    "server = Pyfhel()\n",
    "server.from_bytes_context(c1.to_bytes_context())\n",
    "server.from_bytes_public_key(c1.to_bytes_public_key())\n",
    "server"
   ]
  },
  {
   "cell_type": "code",
   "execution_count": 83,
   "metadata": {},
   "outputs": [
    {
     "data": {
      "text/plain": [
       "array([[<Pyfhel Ciphertext at 0x21ee62086d0, scheme=ckks, size=2/2, scale_bits=30, mod_level=0>,\n",
       "        <Pyfhel Ciphertext at 0x21ee62c8ef0, scheme=ckks, size=2/2, scale_bits=30, mod_level=0>,\n",
       "        <Pyfhel Ciphertext at 0x21eed628a90, scheme=ckks, size=2/2, scale_bits=30, mod_level=0>],\n",
       "       [<Pyfhel Ciphertext at 0x21eed6290d0, scheme=ckks, size=2/2, scale_bits=30, mod_level=0>,\n",
       "        <Pyfhel Ciphertext at 0x21ee62c0d10, scheme=ckks, size=2/2, scale_bits=30, mod_level=0>,\n",
       "        <Pyfhel Ciphertext at 0x21eed60f9c0, scheme=ckks, size=2/2, scale_bits=30, mod_level=0>]],\n",
       "      dtype=object)"
      ]
     },
     "execution_count": 83,
     "metadata": {},
     "output_type": "execute_result"
    }
   ],
   "source": [
    "# Use c1 to encrypt\n",
    "test1 = np.array([[1, 2, 3], [4, 5, 6]], dtype=float)\n",
    "test1_encrypt = encrypt_data(c1, test1)\n",
    "test1_encrypt"
   ]
  },
  {
   "cell_type": "code",
   "execution_count": 84,
   "metadata": {},
   "outputs": [
    {
     "data": {
      "text/plain": [
       "array([[0.99999841, 2.00000098, 3.00000139],\n",
       "       [3.99999994, 4.99999909, 5.99999958]])"
      ]
     },
     "execution_count": 84,
     "metadata": {},
     "output_type": "execute_result"
    }
   ],
   "source": [
    "# use c1 to decrypt\n",
    "test1_decrypt = decrypt_data(c1, test1_encrypt)\n",
    "test1_decrypt"
   ]
  },
  {
   "attachments": {},
   "cell_type": "markdown",
   "metadata": {},
   "source": [
    "## Caculation that model need"
   ]
  },
  {
   "cell_type": "code",
   "execution_count": 85,
   "metadata": {},
   "outputs": [],
   "source": [
    "sum = HEreduce_sum(test1_encrypt)\n",
    "mean = HEreduce_mean(test1_encrypt)\n",
    "square = HEsquare(test1_encrypt)"
   ]
  },
  {
   "cell_type": "code",
   "execution_count": 86,
   "metadata": {},
   "outputs": [],
   "source": [
    "server_array = np.array([[3, 2], [6, 5], [1, 4]], dtype=float)\n",
    "encoded_array = server_array\n",
    "for i in range(len(server_array)):\n",
    "    for j in range(len(server_array[i])):\n",
    "        encoded_array[i][j] = server.encode(server_array[i][j])"
   ]
  },
  {
   "cell_type": "code",
   "execution_count": 87,
   "metadata": {},
   "outputs": [],
   "source": [
    "mult = HEmatmult(test1_encrypt, server_array)"
   ]
  },
  {
   "attachments": {},
   "cell_type": "markdown",
   "metadata": {},
   "source": [
    "## Verify Result"
   ]
  },
  {
   "cell_type": "code",
   "execution_count": 88,
   "metadata": {},
   "outputs": [
    {
     "name": "stdout",
     "output_type": "stream",
     "text": [
      "Sum: 20.999999380423812 vs 21.0\n",
      "Mean: 3.4999995389890155 vs 3.5\n",
      "Square: [[ 0.99999682  4.00000391  9.00000836]\n",
      " [15.99999953 24.99999085 35.99999491]] vs [[ 1.  4.  9.]\n",
      " [16. 25. 36.]]\n",
      "Matmul: [[18.00000248 24.00000727]\n",
      " [47.99999391 56.99999361]] vs [[18. 24.]\n",
      " [48. 57.]]\n"
     ]
    }
   ],
   "source": [
    "print(\"Sum:\", c1.decrypt(sum)[0], \"vs\", np.sum(test1))\n",
    "print(\"Mean:\", c1.decrypt(mean)[0], \"vs\", np.mean(test1))\n",
    "print(\"Square:\", decrypt_data(c1, square), \"vs\", test1**2)\n",
    "print(\"Matmul:\", decrypt_data(c1, mult), \"vs\", np.matmul(test1, server_array))"
   ]
  }
 ],
 "metadata": {
  "kernelspec": {
   "display_name": "MLAI",
   "language": "python",
   "name": "python3"
  },
  "language_info": {
   "codemirror_mode": {
    "name": "ipython",
    "version": 3
   },
   "file_extension": ".py",
   "mimetype": "text/x-python",
   "name": "python",
   "nbconvert_exporter": "python",
   "pygments_lexer": "ipython3",
   "version": "3.10.6 | packaged by conda-forge | (main, Oct 24 2022, 16:02:16) [MSC v.1916 64 bit (AMD64)]"
  },
  "orig_nbformat": 4,
  "vscode": {
   "interpreter": {
    "hash": "fd18e2703a944517b229c10d426dc40a3613b9589690a53834e185b69f2ae3d3"
   }
  }
 },
 "nbformat": 4,
 "nbformat_minor": 2
}
