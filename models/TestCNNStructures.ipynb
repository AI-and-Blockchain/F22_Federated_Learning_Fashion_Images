{
  "cells": [
    {
      "cell_type": "markdown",
      "metadata": {
        "id": "HXZog3W-zdgW"
      },
      "source": [
        "AI and Blockchain Test Notebook for CNN Structures\n",
        "\n",
        "Testing 1, 2, and 3-layer CNNs"
      ]
    },
    {
      "cell_type": "code",
      "execution_count": null,
      "metadata": {
        "colab": {
          "base_uri": "https://localhost:8080/"
        },
        "id": "MoRfsvI_CwMB",
        "outputId": "3a326829-3edc-4f2e-c014-344563615080"
      },
      "outputs": [
        {
          "output_type": "stream",
          "name": "stdout",
          "text": [
            "Looking in indexes: https://pypi.org/simple, https://us-python.pkg.dev/colab-wheels/public/simple/\n",
            "Requirement already satisfied: imbalanced-learn in /usr/local/lib/python3.7/dist-packages (0.8.1)\n",
            "Requirement already satisfied: joblib>=0.11 in /usr/local/lib/python3.7/dist-packages (from imbalanced-learn) (1.2.0)\n",
            "Requirement already satisfied: numpy>=1.13.3 in /usr/local/lib/python3.7/dist-packages (from imbalanced-learn) (1.21.6)\n",
            "Requirement already satisfied: scikit-learn>=0.24 in /usr/local/lib/python3.7/dist-packages (from imbalanced-learn) (1.0.2)\n",
            "Requirement already satisfied: scipy>=0.19.1 in /usr/local/lib/python3.7/dist-packages (from imbalanced-learn) (1.7.3)\n",
            "Requirement already satisfied: threadpoolctl>=2.0.0 in /usr/local/lib/python3.7/dist-packages (from scikit-learn>=0.24->imbalanced-learn) (3.1.0)\n",
            "Looking in indexes: https://pypi.org/simple, https://us-python.pkg.dev/colab-wheels/public/simple/\n",
            "Requirement already satisfied: graphviz in /usr/local/lib/python3.7/dist-packages (0.10.1)\n"
          ]
        }
      ],
      "source": [
        "!pip install imbalanced-learn\n",
        "!pip install graphviz"
      ]
    },
    {
      "cell_type": "code",
      "execution_count": null,
      "metadata": {
        "id": "aZCA63injOt2"
      },
      "outputs": [],
      "source": [
        "# import required libraries\n",
        "import pandas as pd\n",
        "import matplotlib.pyplot as plt\n",
        "import seaborn as sns\n",
        "import numpy as np\n",
        "import random\n",
        "import graphviz\n",
        "\n",
        "from sklearn.model_selection import train_test_split\n",
        "from sklearn.model_selection import cross_val_score\n",
        "from sklearn.model_selection import KFold \n",
        "from sklearn.linear_model import LogisticRegression\n",
        "from sklearn.svm import SVC\n",
        "from sklearn import tree\n",
        "from sklearn.ensemble import GradientBoostingClassifier\n",
        "from sklearn.ensemble import AdaBoostClassifier\n",
        "from sklearn.ensemble import RandomForestClassifier\n",
        "from sklearn.metrics import precision_score\n",
        "from sklearn.metrics import recall_score\n",
        "from sklearn.metrics import accuracy_score\n",
        "from sklearn.metrics import f1_score\n",
        "from sklearn.metrics import log_loss\n",
        "from sklearn.preprocessing import Normalizer\n",
        "from sklearn.preprocessing import StandardScaler\n",
        "from sklearn import utils\n",
        "\n",
        "import tensorflow as tf\n",
        "from tensorflow import feature_column\n",
        "from tensorflow import keras\n",
        "import keras\n",
        "from tensorflow.keras import layers\n",
        "from tensorflow.keras.layers import Dense, BatchNormalization\n",
        "\n",
        "import IPython\n",
        "import IPython.display\n",
        "\n",
        "from gensim.test.utils import datapath, get_tmpfile\n",
        "from gensim.models import KeyedVectors\n",
        "from gensim.scripts.glove2word2vec import glove2word2vec\n",
        "\n",
        "from imblearn.over_sampling import SMOTE\n",
        "import warnings\n",
        "warnings.filterwarnings(\"ignore\")"
      ]
    },
    {
      "cell_type": "markdown",
      "metadata": {
        "id": "sZhrsQnH1MKs"
      },
      "source": [
        "### Exploratory Data Analysis\n",
        "Below are the steps I take to perform Exploratory Data Analysis."
      ]
    },
    {
      "cell_type": "markdown",
      "metadata": {
        "id": "qd2wLZlWjOt4"
      },
      "source": [
        "#### Getting the Data"
      ]
    },
    {
      "cell_type": "code",
      "execution_count": null,
      "metadata": {
        "colab": {
          "base_uri": "https://localhost:8080/"
        },
        "id": "OyjGkMYajOt4",
        "outputId": "82461458-e012-4f4f-b69d-020f63aa979c"
      },
      "outputs": [
        {
          "output_type": "stream",
          "name": "stdout",
          "text": [
            "Downloading data from https://storage.googleapis.com/tensorflow/tf-keras-datasets/train-labels-idx1-ubyte.gz\n",
            "29515/29515 [==============================] - 0s 0us/step\n",
            "Downloading data from https://storage.googleapis.com/tensorflow/tf-keras-datasets/train-images-idx3-ubyte.gz\n",
            "26421880/26421880 [==============================] - 0s 0us/step\n",
            "Downloading data from https://storage.googleapis.com/tensorflow/tf-keras-datasets/t10k-labels-idx1-ubyte.gz\n",
            "5148/5148 [==============================] - 0s 0us/step\n",
            "Downloading data from https://storage.googleapis.com/tensorflow/tf-keras-datasets/t10k-images-idx3-ubyte.gz\n",
            "4422102/4422102 [==============================] - 0s 0us/step\n"
          ]
        }
      ],
      "source": [
        "# data source: fashion MNIST\n",
        "(X_train, y_train), (X_test, y_test) = tf.keras.datasets.fashion_mnist.load_data()"
      ]
    },
    {
      "cell_type": "markdown",
      "metadata": {
        "id": "4Ph370GzjOt5"
      },
      "source": [
        "Data Dictionary/Information\n",
        "\n",
        "https://www.kaggle.com/datasets/jishnukoliyadan/gold-price-1979-present"
      ]
    },
    {
      "cell_type": "markdown",
      "metadata": {
        "id": "65TzJC9WjOt5"
      },
      "source": [
        "### Exploring the Data"
      ]
    },
    {
      "cell_type": "code",
      "source": [
        "X_train"
      ],
      "metadata": {
        "colab": {
          "base_uri": "https://localhost:8080/"
        },
        "id": "i0UFzEjgO2H4",
        "outputId": "b87ceba1-9a31-4a3a-e29c-415d994592be"
      },
      "execution_count": null,
      "outputs": [
        {
          "output_type": "execute_result",
          "data": {
            "text/plain": [
              "array([[[0, 0, 0, ..., 0, 0, 0],\n",
              "        [0, 0, 0, ..., 0, 0, 0],\n",
              "        [0, 0, 0, ..., 0, 0, 0],\n",
              "        ...,\n",
              "        [0, 0, 0, ..., 0, 0, 0],\n",
              "        [0, 0, 0, ..., 0, 0, 0],\n",
              "        [0, 0, 0, ..., 0, 0, 0]],\n",
              "\n",
              "       [[0, 0, 0, ..., 0, 0, 0],\n",
              "        [0, 0, 0, ..., 0, 0, 0],\n",
              "        [0, 0, 0, ..., 0, 0, 0],\n",
              "        ...,\n",
              "        [0, 0, 0, ..., 0, 0, 0],\n",
              "        [0, 0, 0, ..., 0, 0, 0],\n",
              "        [0, 0, 0, ..., 0, 0, 0]],\n",
              "\n",
              "       [[0, 0, 0, ..., 0, 0, 0],\n",
              "        [0, 0, 0, ..., 0, 0, 0],\n",
              "        [0, 0, 0, ..., 0, 0, 0],\n",
              "        ...,\n",
              "        [0, 0, 0, ..., 0, 0, 0],\n",
              "        [0, 0, 0, ..., 0, 0, 0],\n",
              "        [0, 0, 0, ..., 0, 0, 0]],\n",
              "\n",
              "       ...,\n",
              "\n",
              "       [[0, 0, 0, ..., 0, 0, 0],\n",
              "        [0, 0, 0, ..., 0, 0, 0],\n",
              "        [0, 0, 0, ..., 0, 0, 0],\n",
              "        ...,\n",
              "        [0, 0, 0, ..., 0, 0, 0],\n",
              "        [0, 0, 0, ..., 0, 0, 0],\n",
              "        [0, 0, 0, ..., 0, 0, 0]],\n",
              "\n",
              "       [[0, 0, 0, ..., 0, 0, 0],\n",
              "        [0, 0, 0, ..., 0, 0, 0],\n",
              "        [0, 0, 0, ..., 0, 0, 0],\n",
              "        ...,\n",
              "        [0, 0, 0, ..., 0, 0, 0],\n",
              "        [0, 0, 0, ..., 0, 0, 0],\n",
              "        [0, 0, 0, ..., 0, 0, 0]],\n",
              "\n",
              "       [[0, 0, 0, ..., 0, 0, 0],\n",
              "        [0, 0, 0, ..., 0, 0, 0],\n",
              "        [0, 0, 0, ..., 0, 0, 0],\n",
              "        ...,\n",
              "        [0, 0, 0, ..., 0, 0, 0],\n",
              "        [0, 0, 0, ..., 0, 0, 0],\n",
              "        [0, 0, 0, ..., 0, 0, 0]]], dtype=uint8)"
            ]
          },
          "metadata": {},
          "execution_count": 4
        }
      ]
    },
    {
      "cell_type": "code",
      "execution_count": null,
      "metadata": {
        "colab": {
          "base_uri": "https://localhost:8080/"
        },
        "id": "HL2mLfdUjOt6",
        "outputId": "9347e1fd-5a6e-430f-8e80-0b333452af6a"
      },
      "outputs": [
        {
          "output_type": "execute_result",
          "data": {
            "text/plain": [
              "(60000, 28, 28)"
            ]
          },
          "metadata": {},
          "execution_count": 5
        }
      ],
      "source": [
        "# viewing the first few rows of the data\n",
        "X_train.shape"
      ]
    },
    {
      "cell_type": "code",
      "execution_count": null,
      "metadata": {
        "colab": {
          "base_uri": "https://localhost:8080/"
        },
        "id": "1nu59ng4KsR8",
        "outputId": "3a2b6f58-1b83-4a31-9bd4-22a8b8224387"
      },
      "outputs": [
        {
          "output_type": "execute_result",
          "data": {
            "text/plain": [
              "(60000,)"
            ]
          },
          "metadata": {},
          "execution_count": 6
        }
      ],
      "source": [
        "y_train.shape"
      ]
    },
    {
      "cell_type": "code",
      "execution_count": null,
      "metadata": {
        "colab": {
          "base_uri": "https://localhost:8080/"
        },
        "id": "6QCv9lw1K77d",
        "outputId": "539ffb74-bf2c-43c8-b8b3-fa9fb868579e"
      },
      "outputs": [
        {
          "output_type": "execute_result",
          "data": {
            "text/plain": [
              "(10000, 28, 28)"
            ]
          },
          "metadata": {},
          "execution_count": 7
        }
      ],
      "source": [
        "X_test.shape"
      ]
    },
    {
      "cell_type": "code",
      "execution_count": null,
      "metadata": {
        "colab": {
          "base_uri": "https://localhost:8080/"
        },
        "id": "KENWwb6KK92a",
        "outputId": "a45991f2-4e37-49d8-c13e-294dd17ec439"
      },
      "outputs": [
        {
          "output_type": "execute_result",
          "data": {
            "text/plain": [
              "(10000,)"
            ]
          },
          "metadata": {},
          "execution_count": 8
        }
      ],
      "source": [
        "y_test.shape"
      ]
    },
    {
      "cell_type": "code",
      "execution_count": null,
      "metadata": {
        "colab": {
          "base_uri": "https://localhost:8080/",
          "height": 282
        },
        "id": "amcvkzh4jOt7",
        "outputId": "10f10876-4114-4843-b623-b67611dae754"
      },
      "outputs": [
        {
          "output_type": "execute_result",
          "data": {
            "text/plain": [
              "<matplotlib.image.AxesImage at 0x7ff10aeb73d0>"
            ]
          },
          "metadata": {},
          "execution_count": 9
        },
        {
          "output_type": "display_data",
          "data": {
            "text/plain": [
              "<Figure size 432x288 with 1 Axes>"
            ],
            "image/png": "[encoded data removed]"
          },
          "metadata": {
            "needs_background": "light"
          }
        }
      ],
      "source": [
        "# what's the data size?\n",
        "plt.imshow(X_train[100])\n",
        "# there are not many features, but there are plenty of examples"
      ]
    },
    {
      "cell_type": "code",
      "execution_count": null,
      "metadata": {
        "id": "P9gmfeG7Nrhg"
      },
      "outputs": [],
      "source": [
        "classes = ['T-shirt/top', 'trouser', 'pullover', 'dress', 'coat',\n",
        "           'sandal', 'shirt', 'sneaker', 'bag', 'ankle boot']"
      ]
    },
    {
      "cell_type": "code",
      "execution_count": null,
      "metadata": {
        "colab": {
          "base_uri": "https://localhost:8080/"
        },
        "id": "h2nfkZzCPD9o",
        "outputId": "24cb5414-a130-4c0f-9850-88cf8a4741a2"
      },
      "outputs": [
        {
          "output_type": "execute_result",
          "data": {
            "text/plain": [
              "array([9, 0, 0, ..., 3, 0, 5], dtype=uint8)"
            ]
          },
          "metadata": {},
          "execution_count": 11
        }
      ],
      "source": [
        "y_train_r = y_train.reshape(-1)\n",
        "y_train_r"
      ]
    },
    {
      "cell_type": "code",
      "execution_count": null,
      "metadata": {
        "colab": {
          "base_uri": "https://localhost:8080/"
        },
        "id": "RRimZE5CZIwI",
        "outputId": "dd9feded-e9e4-41c7-de95-f70eae80adca"
      },
      "outputs": [
        {
          "output_type": "execute_result",
          "data": {
            "text/plain": [
              "array([9, 2, 1, ..., 8, 1, 5], dtype=uint8)"
            ]
          },
          "metadata": {},
          "execution_count": 12
        }
      ],
      "source": [
        "y_test_r = y_test.reshape(-1)\n",
        "y_test_r"
      ]
    },
    {
      "cell_type": "code",
      "execution_count": null,
      "metadata": {
        "colab": {
          "base_uri": "https://localhost:8080/",
          "height": 282
        },
        "id": "dLi1Es1rNRHR",
        "outputId": "5bcdb0bd-1777-4f79-f617-355bf12862e2"
      },
      "outputs": [
        {
          "output_type": "stream",
          "name": "stdout",
          "text": [
            "bag\n"
          ]
        },
        {
          "output_type": "display_data",
          "data": {
            "text/plain": [
              "<Figure size 432x288 with 1 Axes>"
            ],
            "image/png": "[encoded data removed]"
          },
          "metadata": {
            "needs_background": "light"
          }
        }
      ],
      "source": [
        "def plot_img(X, y, idx):\n",
        "  plt.imshow(X[idx])\n",
        "  print(classes[int(y[idx])])\n",
        "\n",
        "plot_img(X_train, y_train, 100)"
      ]
    },
    {
      "cell_type": "code",
      "execution_count": null,
      "metadata": {
        "id": "1kCIyQBRagXD"
      },
      "outputs": [],
      "source": [
        "X = np.concatenate((X_train, X_test), axis = 0)"
      ]
    },
    {
      "cell_type": "code",
      "execution_count": null,
      "metadata": {
        "colab": {
          "base_uri": "https://localhost:8080/"
        },
        "id": "r6oryP-paozJ",
        "outputId": "ccfdecea-1178-4735-dba1-6e1b3ab7ca97"
      },
      "outputs": [
        {
          "output_type": "execute_result",
          "data": {
            "text/plain": [
              "(70000, 28, 28)"
            ]
          },
          "metadata": {},
          "execution_count": 15
        }
      ],
      "source": [
        "X.shape"
      ]
    },
    {
      "cell_type": "code",
      "execution_count": null,
      "metadata": {
        "id": "lSA0CdFRa9TX"
      },
      "outputs": [],
      "source": [
        "y = np.concatenate((y_train, y_test), axis = 0)"
      ]
    },
    {
      "cell_type": "code",
      "execution_count": null,
      "metadata": {
        "colab": {
          "base_uri": "https://localhost:8080/"
        },
        "id": "FQMk3buxaoun",
        "outputId": "1ff62b75-a188-4a90-cbdb-44166b0e43c8"
      },
      "outputs": [
        {
          "output_type": "execute_result",
          "data": {
            "text/plain": [
              "(70000,)"
            ]
          },
          "metadata": {},
          "execution_count": 17
        }
      ],
      "source": [
        "y.shape"
      ]
    },
    {
      "cell_type": "code",
      "execution_count": null,
      "metadata": {
        "id": "Fmfo0t72b9dv"
      },
      "outputs": [],
      "source": [
        "X_shuffle, y_shuffle = utils.shuffle(X, y)"
      ]
    },
    {
      "cell_type": "code",
      "execution_count": null,
      "metadata": {
        "colab": {
          "base_uri": "https://localhost:8080/",
          "height": 282
        },
        "id": "K_dn3iOJeFYU",
        "outputId": "2860c508-9b8f-45ed-a606-c45d3aa6846d"
      },
      "outputs": [
        {
          "output_type": "stream",
          "name": "stdout",
          "text": [
            "trouser\n"
          ]
        },
        {
          "output_type": "display_data",
          "data": {
            "text/plain": [
              "<Figure size 432x288 with 1 Axes>"
            ],
            "image/png": "[encoded data removed]"
          },
          "metadata": {
            "needs_background": "light"
          }
        }
      ],
      "source": [
        "plot_img(X_shuffle, y_shuffle, 34525)"
      ]
    },
    {
      "cell_type": "code",
      "execution_count": null,
      "metadata": {
        "id": "nE6I0Tyfejoi"
      },
      "outputs": [],
      "source": [
        "X_train_s, X_test_set, y_train_s, y_test_set = train_test_split(X_shuffle,\n",
        "                                                            y_shuffle,\n",
        "                                                            test_size = 0.1,\n",
        "                                                            random_state = 42)"
      ]
    },
    {
      "cell_type": "code",
      "execution_count": null,
      "metadata": {
        "id": "imRUrrd3g2Ia"
      },
      "outputs": [],
      "source": [
        "X_train_set, X_val_set, y_train_set, y_val_set = train_test_split(X_train_s,\n",
        "                                                            y_train_s,\n",
        "                                                            test_size = 0.11111,\n",
        "                                                            random_state = 42)"
      ]
    },
    {
      "cell_type": "code",
      "execution_count": null,
      "metadata": {
        "colab": {
          "base_uri": "https://localhost:8080/"
        },
        "id": "DX4SQ6BFhHJ9",
        "outputId": "470666aa-574d-4b31-a543-15f70e6d65aa"
      },
      "outputs": [
        {
          "output_type": "stream",
          "name": "stdout",
          "text": [
            "Train: (56000, 28, 28) - 0.8\n",
            "Val:   (7000, 28, 28) - 0.1\n",
            "Test:  (7000, 28, 28)  - 0.1\n"
          ]
        }
      ],
      "source": [
        "denom = X_train_set.shape[0] + X_val_set.shape[0] + X_test_set.shape[0]\n",
        "print('Train:', X_train_set.shape, '-', X_train_set.shape[0] / denom)\n",
        "print('Val:  ', X_val_set.shape, '-', X_val_set.shape[0] / denom)\n",
        "print('Test: ', X_test_set.shape, ' -', X_test_set.shape[0] / denom)"
      ]
    },
    {
      "cell_type": "code",
      "execution_count": null,
      "metadata": {
        "id": "AvMLH6D2j0NN"
      },
      "outputs": [],
      "source": [
        "X_train_norm = X_train_set / 255\n",
        "X_val_norm = X_val_set / 255\n",
        "X_test_norm = X_test_set / 255"
      ]
    },
    {
      "cell_type": "code",
      "source": [
        "X_train_norm_ex = tf.expand_dims(X_train_norm, -1)\n",
        "X_val_norm_ex = tf.expand_dims(X_val_norm, -1)\n",
        "X_test_norm_ex = tf.expand_dims(X_test_norm, -1)"
      ],
      "metadata": {
        "id": "qzZDiu7Oo7mB"
      },
      "execution_count": null,
      "outputs": []
    },
    {
      "cell_type": "code",
      "execution_count": null,
      "metadata": {
        "id": "VxHwogU9ZPk8"
      },
      "outputs": [],
      "source": [
        "early_stopping = tf.keras.callbacks.EarlyStopping(patience = 2)"
      ]
    },
    {
      "cell_type": "code",
      "source": [
        "resize_and_rescale = tf.keras.Sequential([\n",
        "  layers.Resizing(280, 280),\n",
        "])"
      ],
      "metadata": {
        "id": "tzeK_0DgsBd-"
      },
      "execution_count": null,
      "outputs": []
    },
    {
      "cell_type": "markdown",
      "metadata": {
        "id": "K8BJ5noefhp5"
      },
      "source": [
        "### CNN - 1 Convolution Layer"
      ]
    },
    {
      "cell_type": "code",
      "execution_count": null,
      "metadata": {
        "id": "OnoQUXsFfhp6"
      },
      "outputs": [],
      "source": [
        "modelCNNc1 = tf.keras.models.Sequential([\n",
        "    resize_and_rescale,\n",
        "    tf.keras.layers.Conv2D(32, (3, 3), padding = 'same', activation = 'relu'),\n",
        "    tf.keras.layers.MaxPooling2D((2, 2), strides = 2),\n",
        "    tf.keras.layers.Flatten(),\n",
        "    tf.keras.layers.Dense(100, activation = 'relu'),\n",
        "    tf.keras.layers.Dropout(0.2),\n",
        "    tf.keras.layers.Dense(10, activation = 'softmax')\n",
        "])"
      ]
    },
    {
      "cell_type": "code",
      "execution_count": null,
      "metadata": {
        "id": "n3yDB7PRfhp7"
      },
      "outputs": [],
      "source": [
        "modelCNNc1.compile(loss=tf.keras.losses.SparseCategoricalCrossentropy(from_logits = True),\n",
        "                optimizer=tf.keras.optimizers.Adam(),\n",
        "                metrics=['accuracy'])"
      ]
    },
    {
      "cell_type": "code",
      "execution_count": null,
      "metadata": {
        "colab": {
          "base_uri": "https://localhost:8080/"
        },
        "id": "15dx00UUfhp8",
        "outputId": "4b91f425-4db3-4185-9693-9887c763034b"
      },
      "outputs": [
        {
          "output_type": "stream",
          "name": "stdout",
          "text": [
            "Epoch 1/100\n",
            "1750/1750 [==============================] - 91s 46ms/step - loss: 0.5824 - accuracy: 0.8048 - val_loss: 0.3473 - val_accuracy: 0.8714\n",
            "Epoch 2/100\n",
            "1750/1750 [==============================] - 82s 47ms/step - loss: 0.3736 - accuracy: 0.8652 - val_loss: 0.3131 - val_accuracy: 0.8810\n",
            "Epoch 3/100\n",
            "1750/1750 [==============================] - 80s 46ms/step - loss: 0.3260 - accuracy: 0.8806 - val_loss: 0.2946 - val_accuracy: 0.8867\n",
            "Epoch 4/100\n",
            "1750/1750 [==============================] - 80s 46ms/step - loss: 0.2971 - accuracy: 0.8909 - val_loss: 0.2855 - val_accuracy: 0.8957\n",
            "Epoch 5/100\n",
            "1750/1750 [==============================] - 82s 47ms/step - loss: 0.2735 - accuracy: 0.8994 - val_loss: 0.2877 - val_accuracy: 0.8979\n",
            "Epoch 6/100\n",
            "1750/1750 [==============================] - 80s 46ms/step - loss: 0.2545 - accuracy: 0.9049 - val_loss: 0.2853 - val_accuracy: 0.8980\n",
            "Epoch 7/100\n",
            "1750/1750 [==============================] - 80s 46ms/step - loss: 0.2394 - accuracy: 0.9082 - val_loss: 0.2945 - val_accuracy: 0.8981\n",
            "Epoch 8/100\n",
            "1750/1750 [==============================] - 80s 46ms/step - loss: 0.2221 - accuracy: 0.9156 - val_loss: 0.2939 - val_accuracy: 0.9007\n"
          ]
        }
      ],
      "source": [
        "historyCNNc1 = modelCNNc1.fit(X_train_norm_ex, y_train_set, epochs=100,\n",
        "                      validation_data = (X_val_norm_ex, y_val_set),\n",
        "                      callbacks=[early_stopping])"
      ]
    },
    {
      "cell_type": "code",
      "execution_count": null,
      "metadata": {
        "colab": {
          "base_uri": "https://localhost:8080/"
        },
        "id": "ohxxCJxlfhp9",
        "outputId": "b9900f38-3bf1-4768-8224-dd71c8655ded"
      },
      "outputs": [
        {
          "output_type": "execute_result",
          "data": {
            "text/plain": [
              "{'loss': [0.5824480056762695,\n",
              "  0.3735710680484772,\n",
              "  0.3260374963283539,\n",
              "  0.2970655560493469,\n",
              "  0.2735190987586975,\n",
              "  0.2545415163040161,\n",
              "  0.23938578367233276,\n",
              "  0.22214704751968384],\n",
              " 'accuracy': [0.8047857284545898,\n",
              "  0.8651607036590576,\n",
              "  0.8805714249610901,\n",
              "  0.8909106850624084,\n",
              "  0.899446427822113,\n",
              "  0.9049107432365417,\n",
              "  0.9082499742507935,\n",
              "  0.9156249761581421],\n",
              " 'val_loss': [0.34731197357177734,\n",
              "  0.3131130039691925,\n",
              "  0.29461491107940674,\n",
              "  0.2855472266674042,\n",
              "  0.28770408034324646,\n",
              "  0.2852608263492584,\n",
              "  0.29446446895599365,\n",
              "  0.2939213812351227],\n",
              " 'val_accuracy': [0.8714285492897034,\n",
              "  0.8809999823570251,\n",
              "  0.8867142796516418,\n",
              "  0.895714282989502,\n",
              "  0.897857129573822,\n",
              "  0.8980000019073486,\n",
              "  0.8981428742408752,\n",
              "  0.9007142782211304]}"
            ]
          },
          "metadata": {},
          "execution_count": 30
        }
      ],
      "source": [
        "historyCNNc1.history"
      ]
    },
    {
      "cell_type": "code",
      "execution_count": null,
      "metadata": {
        "id": "FixyFKgBfhp-",
        "colab": {
          "base_uri": "https://localhost:8080/",
          "height": 323
        },
        "outputId": "510dbe11-2db2-4f7c-d873-8ae12767b1fc"
      },
      "outputs": [
        {
          "output_type": "display_data",
          "data": {
            "text/plain": [
              "<Figure size 720x360 with 2 Axes>"
            ],
            "image/png": "[encoded data removed]"
          },
          "metadata": {
            "needs_background": "light"
          }
        }
      ],
      "source": [
        "fig, ax = plt.subplots(1,2,figsize=(10,5))\n",
        "ax[0].plot(historyCNNc1.history['accuracy'])\n",
        "ax[0].plot(historyCNNc1.history['val_accuracy'])\n",
        "ax[0].legend(['accuracy', 'val_accuracy'])\n",
        "ax[1].plot(historyCNNc1.history['loss'])\n",
        "ax[1].plot(historyCNNc1.history['val_loss'])\n",
        "ax[1].legend(['train_loss', 'val_loss'])\n",
        "plt.show()"
      ]
    },
    {
      "cell_type": "code",
      "source": [
        "modelCNNc1.evaluate(X_val_norm_ex, y_val_set)"
      ],
      "metadata": {
        "colab": {
          "base_uri": "https://localhost:8080/"
        },
        "id": "aMiftPXm-F8t",
        "outputId": "d8857810-68ad-4e40-e965-6167450018dd"
      },
      "execution_count": null,
      "outputs": [
        {
          "output_type": "stream",
          "name": "stdout",
          "text": [
            "219/219 [==============================] - 4s 16ms/step - loss: 0.2939 - accuracy: 0.9007\n"
          ]
        },
        {
          "output_type": "execute_result",
          "data": {
            "text/plain": [
              "[0.2939213812351227, 0.9007142782211304]"
            ]
          },
          "metadata": {},
          "execution_count": 32
        }
      ]
    },
    {
      "cell_type": "code",
      "source": [
        "modelCNNc1.evaluate(X_test_norm_ex, y_test_set)"
      ],
      "metadata": {
        "colab": {
          "base_uri": "https://localhost:8080/"
        },
        "id": "nhaW_l69-GTD",
        "outputId": "bbdff06c-2420-4e26-da4c-d2aa2601ad58"
      },
      "execution_count": null,
      "outputs": [
        {
          "output_type": "stream",
          "name": "stdout",
          "text": [
            "219/219 [==============================] - 4s 16ms/step - loss: 0.3214 - accuracy: 0.8964\n"
          ]
        },
        {
          "output_type": "execute_result",
          "data": {
            "text/plain": [
              "[0.32135725021362305, 0.8964285850524902]"
            ]
          },
          "metadata": {},
          "execution_count": 33
        }
      ]
    },
    {
      "cell_type": "markdown",
      "metadata": {
        "id": "tkjbYiI3f0Ov"
      },
      "source": [
        "### CNN - 2 Convolution Layers"
      ]
    },
    {
      "cell_type": "code",
      "execution_count": null,
      "metadata": {
        "id": "W2UQceMOf0Ox"
      },
      "outputs": [],
      "source": [
        "modelCNNc2 = tf.keras.models.Sequential([\n",
        "    resize_and_rescale,\n",
        "    tf.keras.layers.Conv2D(32, (3, 3), padding = 'same', activation = 'relu'),\n",
        "    tf.keras.layers.MaxPooling2D((2, 2), strides = 2),\n",
        "    tf.keras.layers.Conv2D(32, (3, 3), padding = 'same', activation = 'relu'),\n",
        "    tf.keras.layers.MaxPooling2D((2, 2), strides = 2),\n",
        "    tf.keras.layers.Flatten(),\n",
        "    tf.keras.layers.Dense(100, activation = 'relu'),\n",
        "    tf.keras.layers.Dropout(0.2),\n",
        "    tf.keras.layers.Dense(10, activation = 'softmax')\n",
        "])"
      ]
    },
    {
      "cell_type": "code",
      "execution_count": null,
      "metadata": {
        "id": "KyEjt7d8f0Ox"
      },
      "outputs": [],
      "source": [
        "modelCNNc2.compile(loss=tf.keras.losses.SparseCategoricalCrossentropy(from_logits = True),\n",
        "                optimizer=tf.keras.optimizers.Adam(),\n",
        "                metrics=['accuracy'])"
      ]
    },
    {
      "cell_type": "code",
      "execution_count": null,
      "metadata": {
        "colab": {
          "base_uri": "https://localhost:8080/"
        },
        "outputId": "d91e4bf6-c599-43e2-ad30-a0fe2045caf3",
        "id": "z35rFugXf0Oy"
      },
      "outputs": [
        {
          "output_type": "stream",
          "name": "stdout",
          "text": [
            "Epoch 1/100\n",
            "1750/1750 [==============================] - 92s 52ms/step - loss: 0.4540 - accuracy: 0.8394 - val_loss: 0.3240 - val_accuracy: 0.8787\n",
            "Epoch 2/100\n",
            "1750/1750 [==============================] - 91s 52ms/step - loss: 0.3139 - accuracy: 0.8846 - val_loss: 0.3069 - val_accuracy: 0.8850\n",
            "Epoch 3/100\n",
            "1750/1750 [==============================] - 90s 51ms/step - loss: 0.2689 - accuracy: 0.8980 - val_loss: 0.2780 - val_accuracy: 0.8924\n",
            "Epoch 4/100\n",
            "1750/1750 [==============================] - 91s 52ms/step - loss: 0.2327 - accuracy: 0.9118 - val_loss: 0.2814 - val_accuracy: 0.8983\n",
            "Epoch 5/100\n",
            "1750/1750 [==============================] - 90s 51ms/step - loss: 0.2027 - accuracy: 0.9228 - val_loss: 0.2830 - val_accuracy: 0.8977\n"
          ]
        }
      ],
      "source": [
        "historyCNNc2 = modelCNNc2.fit(X_train_norm_ex, y_train_set, epochs=100,\n",
        "                      validation_data = (X_val_norm_ex, y_val_set),\n",
        "                      callbacks=[early_stopping])"
      ]
    },
    {
      "cell_type": "code",
      "execution_count": null,
      "metadata": {
        "colab": {
          "base_uri": "https://localhost:8080/"
        },
        "outputId": "62e99d83-1792-4a82-a4f5-3e9aeaba5612",
        "id": "Ia9Tp4OQf0Oy"
      },
      "outputs": [
        {
          "output_type": "execute_result",
          "data": {
            "text/plain": [
              "{'loss': [0.4540167450904846,\n",
              "  0.31385642290115356,\n",
              "  0.2689162790775299,\n",
              "  0.23265302181243896,\n",
              "  0.20270049571990967],\n",
              " 'accuracy': [0.8393928408622742,\n",
              "  0.8845893144607544,\n",
              "  0.8980000019073486,\n",
              "  0.9117500185966492,\n",
              "  0.9227856993675232],\n",
              " 'val_loss': [0.3239859938621521,\n",
              "  0.3069170415401459,\n",
              "  0.2780456244945526,\n",
              "  0.2813916504383087,\n",
              "  0.28299805521965027],\n",
              " 'val_accuracy': [0.8787142634391785,\n",
              "  0.8849999904632568,\n",
              "  0.8924285769462585,\n",
              "  0.8982856869697571,\n",
              "  0.8977142572402954]}"
            ]
          },
          "metadata": {},
          "execution_count": 37
        }
      ],
      "source": [
        "historyCNNc2.history"
      ]
    },
    {
      "cell_type": "code",
      "execution_count": null,
      "metadata": {
        "colab": {
          "base_uri": "https://localhost:8080/",
          "height": 320
        },
        "outputId": "98190ede-0d5d-40ce-c4f6-f187a917b8d6",
        "id": "a_HMR84If0Oz"
      },
      "outputs": [
        {
          "output_type": "display_data",
          "data": {
            "text/plain": [
              "<Figure size 720x360 with 2 Axes>"
            ],
            "image/png": "[encoded data removed]"
          },
          "metadata": {
            "needs_background": "light"
          }
        }
      ],
      "source": [
        "fig, ax = plt.subplots(1,2,figsize=(10,5))\n",
        "ax[0].plot(historyCNNc2.history['accuracy'])\n",
        "ax[0].plot(historyCNNc2.history['val_accuracy'])\n",
        "ax[0].legend(['accuracy', 'val_accuracy'])\n",
        "ax[1].plot(historyCNNc2.history['loss'])\n",
        "ax[1].plot(historyCNNc2.history['val_loss'])\n",
        "ax[1].legend(['train_loss', 'val_loss'])\n",
        "plt.show()"
      ]
    },
    {
      "cell_type": "code",
      "source": [
        "modelCNNc2.evaluate(X_val_norm_ex, y_val_set)"
      ],
      "metadata": {
        "colab": {
          "base_uri": "https://localhost:8080/"
        },
        "outputId": "2d96d586-51c0-4bdc-bb3d-a822f9924b0c",
        "id": "iuzdAnbwf0Oz"
      },
      "execution_count": null,
      "outputs": [
        {
          "output_type": "stream",
          "name": "stdout",
          "text": [
            "219/219 [==============================] - 4s 20ms/step - loss: 0.2830 - accuracy: 0.8977\n"
          ]
        },
        {
          "output_type": "execute_result",
          "data": {
            "text/plain": [
              "[0.28299805521965027, 0.8977142572402954]"
            ]
          },
          "metadata": {},
          "execution_count": 39
        }
      ]
    },
    {
      "cell_type": "code",
      "source": [
        "modelCNNc2.evaluate(X_test_norm_ex, y_test_set)"
      ],
      "metadata": {
        "colab": {
          "base_uri": "https://localhost:8080/"
        },
        "outputId": "1c032a82-11a1-4dfa-a030-81cb82373bbc",
        "id": "5UWuN5ttf0O0"
      },
      "execution_count": null,
      "outputs": [
        {
          "output_type": "stream",
          "name": "stdout",
          "text": [
            "219/219 [==============================] - 4s 20ms/step - loss: 0.2966 - accuracy: 0.8956\n"
          ]
        },
        {
          "output_type": "execute_result",
          "data": {
            "text/plain": [
              "[0.2966306805610657, 0.8955714106559753]"
            ]
          },
          "metadata": {},
          "execution_count": 40
        }
      ]
    },
    {
      "cell_type": "markdown",
      "metadata": {
        "id": "nm09TduYtaiS"
      },
      "source": [
        "### CNN - 3 Convolution Layers"
      ]
    },
    {
      "cell_type": "code",
      "source": [
        "data_augmentation = keras.Sequential(\n",
        "  [\n",
        "    tf.keras.layers.experimental.preprocessing.RandomFlip(\"horizontal\",\n",
        "                                                 input_shape=(224, 224)),\n",
        "    tf.keras.layers.experimental.preprocessing.RandomRotation(0.2),\n",
        "    tf.keras.layers.experimental.preprocessing.RandomZoom(0.2),\n",
        "  ]\n",
        ")"
      ],
      "metadata": {
        "id": "gctTLTI0taia"
      },
      "execution_count": null,
      "outputs": []
    },
    {
      "cell_type": "code",
      "execution_count": null,
      "metadata": {
        "id": "SNj700Nktaia"
      },
      "outputs": [],
      "source": [
        "modelCNNc3 = tf.keras.models.Sequential([\n",
        "    resize_and_rescale,\n",
        "    data_augmentation,\n",
        "    tf.keras.layers.Conv2D(32, (3, 3), padding = 'same', activation = 'relu'),\n",
        "    tf.keras.layers.MaxPooling2D((2, 2), strides = 2),\n",
        "    tf.keras.layers.Conv2D(32, (3, 3), padding = 'same', activation = 'relu'),\n",
        "    tf.keras.layers.MaxPooling2D((2, 2), strides = 2),\n",
        "    tf.keras.layers.Conv2D(32, (3, 3), padding = 'same', activation = 'relu'),\n",
        "    tf.keras.layers.MaxPooling2D((2, 2), strides = 2),\n",
        "    tf.keras.layers.Flatten(),\n",
        "    tf.keras.layers.Dense(100, activation = 'relu'),\n",
        "    tf.keras.layers.Dropout(0.2),\n",
        "    tf.keras.layers.Dense(10, activation = 'softmax')\n",
        "])"
      ]
    },
    {
      "cell_type": "code",
      "execution_count": null,
      "metadata": {
        "id": "VpITwCpqtaia"
      },
      "outputs": [],
      "source": [
        "modelCNNc3.compile(loss=tf.keras.losses.SparseCategoricalCrossentropy(from_logits = True),\n",
        "                optimizer=tf.keras.optimizers.Adam(),\n",
        "                metrics=['accuracy'])"
      ]
    },
    {
      "cell_type": "code",
      "execution_count": null,
      "metadata": {
        "colab": {
          "base_uri": "https://localhost:8080/"
        },
        "outputId": "75e7895c-608b-4699-df6e-c11bb64a7a8a",
        "id": "VhYgrOWLtaia"
      },
      "outputs": [
        {
          "output_type": "stream",
          "name": "stdout",
          "text": [
            "Epoch 1/100\n",
            "1750/1750 [==============================] - 96s 54ms/step - loss: 0.4212 - accuracy: 0.8496 - val_loss: 0.3240 - val_accuracy: 0.8776\n",
            "Epoch 2/100\n",
            "1750/1750 [==============================] - 94s 54ms/step - loss: 0.2820 - accuracy: 0.8976 - val_loss: 0.2697 - val_accuracy: 0.8994\n",
            "Epoch 3/100\n",
            "1750/1750 [==============================] - 95s 54ms/step - loss: 0.2287 - accuracy: 0.9154 - val_loss: 0.2480 - val_accuracy: 0.9106\n",
            "Epoch 4/100\n",
            "1750/1750 [==============================] - 95s 54ms/step - loss: 0.1893 - accuracy: 0.9285 - val_loss: 0.2338 - val_accuracy: 0.9159\n",
            "Epoch 5/100\n",
            "1750/1750 [==============================] - 96s 55ms/step - loss: 0.1592 - accuracy: 0.9397 - val_loss: 0.2464 - val_accuracy: 0.9157\n",
            "Epoch 6/100\n",
            "1750/1750 [==============================] - 95s 54ms/step - loss: 0.1311 - accuracy: 0.9505 - val_loss: 0.2642 - val_accuracy: 0.9127\n"
          ]
        }
      ],
      "source": [
        "historyCNNc3 = modelCNNc3.fit(X_train_norm_ex, y_train_set, epochs=100,\n",
        "                      validation_data = (X_val_norm_ex, y_val_set),\n",
        "                      callbacks=[early_stopping])"
      ]
    },
    {
      "cell_type": "code",
      "execution_count": null,
      "metadata": {
        "colab": {
          "base_uri": "https://localhost:8080/"
        },
        "outputId": "4bd1a822-2810-41d9-c5cc-3bee37090e1b",
        "id": "IdNp_Ocbtaib"
      },
      "outputs": [
        {
          "output_type": "execute_result",
          "data": {
            "text/plain": [
              "{'loss': [0.42124661803245544,\n",
              "  0.2819768190383911,\n",
              "  0.2286975085735321,\n",
              "  0.1893479824066162,\n",
              "  0.1591668277978897,\n",
              "  0.1310512274503708],\n",
              " 'accuracy': [0.8496249914169312,\n",
              "  0.897553563117981,\n",
              "  0.9153749942779541,\n",
              "  0.9284642934799194,\n",
              "  0.9396607279777527,\n",
              "  0.9505178332328796],\n",
              " 'val_loss': [0.32400792837142944,\n",
              "  0.26968294382095337,\n",
              "  0.24796931445598602,\n",
              "  0.23381130397319794,\n",
              "  0.24635356664657593,\n",
              "  0.26424896717071533],\n",
              " 'val_accuracy': [0.8775714039802551,\n",
              "  0.8994285464286804,\n",
              "  0.9105714559555054,\n",
              "  0.9158571362495422,\n",
              "  0.9157142639160156,\n",
              "  0.9127143025398254]}"
            ]
          },
          "metadata": {},
          "execution_count": 45
        }
      ],
      "source": [
        "historyCNNc3.history"
      ]
    },
    {
      "cell_type": "code",
      "execution_count": null,
      "metadata": {
        "colab": {
          "base_uri": "https://localhost:8080/",
          "height": 320
        },
        "outputId": "76441b68-ed5a-4c18-c164-1774aee688b7",
        "id": "0E8lOCcqtaib"
      },
      "outputs": [
        {
          "output_type": "display_data",
          "data": {
            "text/plain": [
              "<Figure size 720x360 with 2 Axes>"
            ],
            "image/png": "[encoded data removed]"
          },
          "metadata": {
            "needs_background": "light"
          }
        }
      ],
      "source": [
        "fig, ax = plt.subplots(1,2,figsize=(10,5))\n",
        "ax[0].plot(historyCNNc3.history['accuracy'])\n",
        "ax[0].plot(historyCNNc3.history['val_accuracy'])\n",
        "ax[0].legend(['accuracy', 'val_accuracy'])\n",
        "ax[1].plot(historyCNNc3.history['loss'])\n",
        "ax[1].plot(historyCNNc3.history['val_loss'])\n",
        "ax[1].legend(['train_loss', 'val_loss'])\n",
        "plt.show()"
      ]
    },
    {
      "cell_type": "code",
      "source": [
        "modelCNNc3.evaluate(X_val_norm_ex, y_val_set)"
      ],
      "metadata": {
        "colab": {
          "base_uri": "https://localhost:8080/"
        },
        "outputId": "bae672df-8c12-4438-cf12-5140e98d5e2b",
        "id": "XC2vfk5ytaib"
      },
      "execution_count": null,
      "outputs": [
        {
          "output_type": "stream",
          "name": "stdout",
          "text": [
            "219/219 [==============================] - 5s 21ms/step - loss: 0.2642 - accuracy: 0.9127\n"
          ]
        },
        {
          "output_type": "execute_result",
          "data": {
            "text/plain": [
              "[0.26424896717071533, 0.9127143025398254]"
            ]
          },
          "metadata": {},
          "execution_count": 47
        }
      ]
    },
    {
      "cell_type": "code",
      "source": [
        "modelCNNc3.evaluate(X_test_norm_ex, y_test_set)"
      ],
      "metadata": {
        "colab": {
          "base_uri": "https://localhost:8080/"
        },
        "outputId": "282b9667-cdcb-42f7-f2b1-7331083364ce",
        "id": "kBacGDW5taib"
      },
      "execution_count": null,
      "outputs": [
        {
          "output_type": "stream",
          "name": "stdout",
          "text": [
            "219/219 [==============================] - 5s 21ms/step - loss: 0.3135 - accuracy: 0.9030\n"
          ]
        },
        {
          "output_type": "execute_result",
          "data": {
            "text/plain": [
              "[0.3135252892971039, 0.902999997138977]"
            ]
          },
          "metadata": {},
          "execution_count": 48
        }
      ]
    }
  ],
  "metadata": {
    "colab": {
      "provenance": []
    },
    "gpuClass": "standard",
    "kernelspec": {
      "display_name": "Python 3",
      "language": "python",
      "name": "python3"
    },
    "language_info": {
      "codemirror_mode": {
        "name": "ipython",
        "version": 3
      },
      "file_extension": ".py",
      "mimetype": "text/x-python",
      "name": "python",
      "nbconvert_exporter": "python",
      "pygments_lexer": "ipython3",
      "version": "3.7.6"
    },
    "accelerator": "GPU"
  },
  "nbformat": 4,
  "nbformat_minor": 0
}
