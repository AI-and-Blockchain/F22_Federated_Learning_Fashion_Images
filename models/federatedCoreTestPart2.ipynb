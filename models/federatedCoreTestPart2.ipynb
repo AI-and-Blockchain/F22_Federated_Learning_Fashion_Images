{
 "cells": [
  {
   "cell_type": "code",
   "execution_count": 1,
   "metadata": {},
   "outputs": [
    {
     "name": "stdout",
     "output_type": "stream",
     "text": [
      "\u001b[33m  Cache entry deserialization failed, entry ignored\u001b[0m\n",
      "\u001b[33m  Cache entry deserialization failed, entry ignored\u001b[0m\n",
      "\u001b[33m  Cache entry deserialization failed, entry ignored\u001b[0m\n",
      "\u001b[31m  Could not find a version that satisfies the requirement tensorflow~=2.11.0 (from tensorflow-federated) (from versions: 0.12.0, 0.12.1, 1.0.0, 1.0.1, 1.1.0, 1.2.0, 1.2.1, 1.3.0, 1.4.0, 1.4.1, 1.5.0, 1.5.1, 1.6.0, 1.7.0, 1.7.1, 1.8.0, 1.9.0, 1.10.0, 1.10.1, 1.11.0, 1.12.0, 1.12.2, 1.12.3, 1.13.1, 1.13.2, 1.14.0)\u001b[0m\n",
      "\u001b[31mNo matching distribution found for tensorflow~=2.11.0 (from tensorflow-federated)\u001b[0m\n",
      "\u001b[31mException:\n",
      "Traceback (most recent call last):\n",
      "  File \"/usr/lib/python2.7/site-packages/pip/basecommand.py\", line 215, in main\n",
      "    status = self.run(options, args)\n",
      "  File \"/usr/lib/python2.7/site-packages/pip/commands/install.py\", line 326, in run\n",
      "    strip_file_prefix=options.strip_file_prefix,\n",
      "  File \"/usr/lib/python2.7/site-packages/pip/req/req_set.py\", line 742, in install\n",
      "    **kwargs\n",
      "  File \"/usr/lib/python2.7/site-packages/pip/req/req_install.py\", line 834, in install\n",
      "    strip_file_prefix=strip_file_prefix\n",
      "  File \"/usr/lib/python2.7/site-packages/pip/req/req_install.py\", line 1037, in move_wheel_files\n",
      "    strip_file_prefix=strip_file_prefix,\n",
      "  File \"/usr/lib/python2.7/site-packages/pip/wheel.py\", line 346, in move_wheel_files\n",
      "    clobber(source, lib_dir, True)\n",
      "  File \"/usr/lib/python2.7/site-packages/pip/wheel.py\", line 317, in clobber\n",
      "    ensure_dir(destdir)\n",
      "  File \"/usr/lib/python2.7/site-packages/pip/utils/__init__.py\", line 83, in ensure_dir\n",
      "    os.makedirs(path)\n",
      "  File \"/usr/lib64/python2.7/os.py\", line 157, in makedirs\n",
      "    mkdir(name, mode)\n",
      "OSError: [Errno 13] Permission denied: '/usr/lib64/python2.7/site-packages/UNKNOWN-0.0.0.dist-info'\u001b[0m\n"
     ]
    }
   ],
   "source": [
    "!pip install --quiet --upgrade tensorflow-federated\n",
    "!pip install --quiet --upgrade nest-asyncio\n",
    "\n",
    "import nest_asyncio\n",
    "nest_asyncio.apply()"
   ]
  },
  {
   "cell_type": "code",
   "execution_count": null,
   "metadata": {},
   "outputs": [],
   "source": [
    "from Pyfhel import Pyfhel, PyCtxt"
   ]
  },
  {
   "cell_type": "code",
   "execution_count": 2,
   "metadata": {},
   "outputs": [
    {
     "name": "stderr",
     "output_type": "stream",
     "text": [
      "2022-12-04 22:46:02.840403: I tensorflow/core/platform/cpu_feature_guard.cc:193] This TensorFlow binary is optimized with oneAPI Deep Neural Network Library (oneDNN) to use the following CPU instructions in performance-critical operations:  AVX2 AVX512F AVX512_VNNI FMA\n",
      "To enable them in other operations, rebuild TensorFlow with the appropriate compiler flags.\n",
      "2022-12-04 22:46:03.023751: I tensorflow/core/util/util.cc:169] oneDNN custom operations are on. You may see slightly different numerical results due to floating-point round-off errors from different computation orders. To turn them off, set the environment variable `TF_ENABLE_ONEDNN_OPTS=0`.\n",
      "2022-12-04 22:46:03.079773: E tensorflow/stream_executor/cuda/cuda_blas.cc:2981] Unable to register cuBLAS factory: Attempting to register factory for plugin cuBLAS when one has already been registered\n",
      "2022-12-04 22:46:04.488388: W tensorflow/stream_executor/platform/default/dso_loader.cc:64] Could not load dynamic library 'libnvinfer.so.7'; dlerror: libnvinfer.so.7: cannot open shared object file: No such file or directory\n",
      "2022-12-04 22:46:04.488469: W tensorflow/stream_executor/platform/default/dso_loader.cc:64] Could not load dynamic library 'libnvinfer_plugin.so.7'; dlerror: libnvinfer_plugin.so.7: cannot open shared object file: No such file or directory\n",
      "2022-12-04 22:46:04.488479: W tensorflow/compiler/tf2tensorrt/utils/py_utils.cc:38] TF-TRT Warning: Cannot dlopen some TensorRT libraries. If you would like to use Nvidia GPU with TensorRT, please make sure the missing libraries mentioned above are installed properly.\n"
     ]
    }
   ],
   "source": [
    "import collections\n",
    "\n",
    "import numpy as np\n",
    "import tensorflow as tf\n",
    "import tensorflow_federated as tff\n",
    "\n",
    "# Must use the Python context because it\n",
    "# supports tff.sequence_* intrinsics.\n",
    "executor_factory = tff.framework.local_executor_factory(\n",
    "    support_sequence_ops=True)\n",
    "execution_context = tff.framework.ExecutionContext(\n",
    "    executor_fn=executor_factory)\n",
    "tff.framework.set_default_context(execution_context)"
   ]
  },
  {
   "cell_type": "code",
   "execution_count": null,
   "metadata": {},
   "outputs": [],
   "source": [
    "def HEmatmult(a, b):\n",
    "    return np.matmul(a, b)\n",
    "\n",
    "def HEreduce_mean(a, axis=None):\n",
    "    if axis is None:\n",
    "        return np.sum(a)/a.size\n",
    "    return np.sum(a, axis=axis)/a.shape[axis]\n",
    "\n",
    "def HEreduce_sum(a, axis=None):\n",
    "    return np.sum(a, axis=axis)\n",
    "\n",
    "def HEexp(a, n=4):\n",
    "    d = 1.0\n",
    "    rt = 0.0\n",
    "    for i in range(n):\n",
    "        rt += d/np.math.factorial(i)\n",
    "        d = a*d\n",
    "    return rt\n",
    "\n",
    "def HEsquare(a):\n",
    "    return a**2"
   ]
  },
  {
   "cell_type": "code",
   "execution_count": 3,
   "metadata": {},
   "outputs": [
    {
     "name": "stderr",
     "output_type": "stream",
     "text": [
      "2022-12-04 22:46:12.369683: W tensorflow/stream_executor/platform/default/dso_loader.cc:64] Could not load dynamic library 'libcudnn.so.8'; dlerror: libcudnn.so.8: cannot open shared object file: No such file or directory\n",
      "2022-12-04 22:46:12.369730: W tensorflow/core/common_runtime/gpu/gpu_device.cc:1934] Cannot dlopen some GPU libraries. Please make sure the missing libraries mentioned above are installed properly if you would like to use GPU. Follow the guide at https://www.tensorflow.org/install/gpu for how to download and setup the required libraries for your platform.\n",
      "Skipping registering GPU devices...\n",
      "2022-12-04 22:46:12.370354: I tensorflow/core/platform/cpu_feature_guard.cc:193] This TensorFlow binary is optimized with oneAPI Deep Neural Network Library (oneDNN) to use the following CPU instructions in performance-critical operations:  AVX2 AVX512F AVX512_VNNI FMA\n",
      "To enable them in other operations, rebuild TensorFlow with the appropriate compiler flags.\n"
     ]
    },
    {
     "data": {
      "text/plain": [
       "b'Hello, World!'"
      ]
     },
     "execution_count": 3,
     "metadata": {},
     "output_type": "execute_result"
    }
   ],
   "source": [
    "@tff.federated_computation\n",
    "def hello_world():\n",
    "  return 'Hello, World!'\n",
    "\n",
    "hello_world()"
   ]
  },
  {
   "cell_type": "code",
   "execution_count": 4,
   "metadata": {},
   "outputs": [
    {
     "name": "stdout",
     "output_type": "stream",
     "text": [
      "Downloading data from https://storage.googleapis.com/tensorflow/tf-keras-datasets/train-labels-idx1-ubyte.gz\n",
      "29515/29515 [==============================] - 0s 0us/step\n",
      "Downloading data from https://storage.googleapis.com/tensorflow/tf-keras-datasets/train-images-idx3-ubyte.gz\n",
      "26421880/26421880 [==============================] - 0s 0us/step\n",
      "Downloading data from https://storage.googleapis.com/tensorflow/tf-keras-datasets/t10k-labels-idx1-ubyte.gz\n",
      "5148/5148 [==============================] - 0s 0us/step\n",
      "Downloading data from https://storage.googleapis.com/tensorflow/tf-keras-datasets/t10k-images-idx3-ubyte.gz\n",
      "4422102/4422102 [==============================] - 0s 0us/step\n"
     ]
    }
   ],
   "source": [
    "mnist_train, mnist_test = tf.keras.datasets.fashion_mnist.load_data()"
   ]
  },
  {
   "cell_type": "code",
   "execution_count": 5,
   "metadata": {},
   "outputs": [
    {
     "data": {
      "text/plain": [
       "[(dtype('uint8'), (60000, 28, 28)), (dtype('uint8'), (60000,))]"
      ]
     },
     "execution_count": 5,
     "metadata": {},
     "output_type": "execute_result"
    }
   ],
   "source": [
    "[(x.dtype, x.shape) for x in mnist_train]"
   ]
  },
  {
   "cell_type": "code",
   "execution_count": null,
   "metadata": {},
   "outputs": [],
   "source": [
    "en1 = Pyfhel(context_params={'scheme':'ckks', 'n':2**14, 'scale':2**30, 'qi_sizes':[30]*5})\n",
    "en1.keyGen()"
   ]
  },
  {
   "cell_type": "code",
   "execution_count": 6,
   "metadata": {},
   "outputs": [],
   "source": [
    "NUM_EXAMPLES_PER_USER = 1000\n",
    "BATCH_SIZE = 100\n",
    "\n",
    "\n",
    "def get_data_for_digit(source, digit):\n",
    "  output_sequence = []\n",
    "  all_samples = [i for i, d in enumerate(source[1]) if d == digit]\n",
    "  for i in range(0, min(len(all_samples), NUM_EXAMPLES_PER_USER), BATCH_SIZE):\n",
    "    batch_samples = all_samples[i:i + BATCH_SIZE]\n",
    "    output_sequence.append({\n",
    "        'x':\n",
    "            np.array([en1.encrypt(source[0][i].flatten() / 255.0) for i in batch_samples],\n",
    "                     dtype=PyCtxt),\n",
    "        'y':\n",
    "            np.array([en1.encrypt(source[1][i]) for i in batch_samples], dtype=PyCtxt)\n",
    "    })\n",
    "  return output_sequence\n",
    "\n",
    "\n",
    "federated_train_data = [get_data_for_digit(mnist_train, d) for d in range(10)]\n",
    "\n",
    "federated_test_data = [get_data_for_digit(mnist_test, d) for d in range(10)]"
   ]
  },
  {
   "cell_type": "code",
   "execution_count": 7,
   "metadata": {},
   "outputs": [
    {
     "data": {
      "text/plain": [
       "array([5, 5, 5, 5, 5, 5, 5, 5, 5, 5, 5, 5, 5, 5, 5, 5, 5, 5, 5, 5, 5, 5,\n",
       "       5, 5, 5, 5, 5, 5, 5, 5, 5, 5, 5, 5, 5, 5, 5, 5, 5, 5, 5, 5, 5, 5,\n",
       "       5, 5, 5, 5, 5, 5, 5, 5, 5, 5, 5, 5, 5, 5, 5, 5, 5, 5, 5, 5, 5, 5,\n",
       "       5, 5, 5, 5, 5, 5, 5, 5, 5, 5, 5, 5, 5, 5, 5, 5, 5, 5, 5, 5, 5, 5,\n",
       "       5, 5, 5, 5, 5, 5, 5, 5, 5, 5, 5, 5], dtype=int32)"
      ]
     },
     "execution_count": 7,
     "metadata": {},
     "output_type": "execute_result"
    }
   ],
   "source": [
    "federated_train_data[5][-1]['y']"
   ]
  },
  {
   "cell_type": "code",
   "execution_count": 8,
   "metadata": {},
   "outputs": [
    {
     "data": {
      "image/png": "[encoded data removed]",
      "text/plain": [
       "<Figure size 640x480 with 1 Axes>"
      ]
     },
     "metadata": {},
     "output_type": "display_data"
    }
   ],
   "source": [
    "from matplotlib import pyplot as plt\n",
    "\n",
    "plt.imshow(federated_train_data[5][-1]['x'][-1].reshape(28, 28), cmap='gray')\n",
    "plt.grid(False)\n",
    "plt.show()"
   ]
  },
  {
   "cell_type": "code",
   "execution_count": 9,
   "metadata": {},
   "outputs": [
    {
     "data": {
      "text/plain": [
       "'<x=float32[?,784],y=int32[?]>'"
      ]
     },
     "execution_count": 9,
     "metadata": {},
     "output_type": "execute_result"
    }
   ],
   "source": [
    "BATCH_SPEC = collections.OrderedDict(\n",
    "    x=tf.TensorSpec(shape=[None, 784], dtype=tf.float32),\n",
    "    y=tf.TensorSpec(shape=[None], dtype=tf.int32))\n",
    "BATCH_TYPE = tff.to_type(BATCH_SPEC)\n",
    "\n",
    "str(BATCH_TYPE)"
   ]
  },
  {
   "cell_type": "code",
   "execution_count": 10,
   "metadata": {},
   "outputs": [
    {
     "name": "stdout",
     "output_type": "stream",
     "text": [
      "<weights=float32[784,10],bias=float32[10]>\n"
     ]
    }
   ],
   "source": [
    "MODEL_SPEC = collections.OrderedDict(\n",
    "    weights=tf.TensorSpec(shape=[784, 10], dtype=tf.float32),\n",
    "    bias=tf.TensorSpec(shape=[10], dtype=tf.float32))\n",
    "MODEL_TYPE = tff.to_type(MODEL_SPEC)\n",
    "print(MODEL_TYPE)"
   ]
  },
  {
   "cell_type": "code",
   "execution_count": 11,
   "metadata": {},
   "outputs": [],
   "source": [
    "# NOTE: `forward_pass` is defined separately from `batch_loss` so that it can \n",
    "# be later called from within another tf.function. Necessary because a\n",
    "# @tf.function  decorated method cannot invoke a @tff.tf_computation.\n",
    "\n",
    "@tf.function\n",
    "def forward_pass(model, batch):\n",
    "  predicted_y = HEsquare(\n",
    "      HEmatmult(batch['x'], model['weights']) + model['bias'])\n",
    "  return -HEreduce_mean(\n",
    "      HEreduce_sum(\n",
    "          tf.one_hot(batch['y'], 10) * tf.math.log(predicted_y), axis=[1]))\n",
    "\n",
    "@tff.tf_computation(MODEL_TYPE, BATCH_TYPE)\n",
    "def batch_loss(model, batch):\n",
    "  return forward_pass(model, batch)"
   ]
  },
  {
   "cell_type": "code",
   "execution_count": 12,
   "metadata": {},
   "outputs": [
    {
     "data": {
      "text/plain": [
       "'(<model=<weights=float32[784,10],bias=float32[10]>,batch=<x=float32[?,784],y=int32[?]>> -> float32)'"
      ]
     },
     "execution_count": 12,
     "metadata": {},
     "output_type": "execute_result"
    }
   ],
   "source": [
    "str(batch_loss.type_signature)"
   ]
  },
  {
   "cell_type": "code",
   "execution_count": 13,
   "metadata": {},
   "outputs": [
    {
     "data": {
      "text/plain": [
       "2.3025851"
      ]
     },
     "execution_count": 13,
     "metadata": {},
     "output_type": "execute_result"
    }
   ],
   "source": [
    "initial_model = collections.OrderedDict(\n",
    "    weights=np.zeros([784, 10], dtype=np.float32),\n",
    "    bias=np.zeros([10], dtype=np.float32))\n",
    "\n",
    "sample_batch = federated_train_data[5][-1]\n",
    "\n",
    "batch_loss(initial_model, sample_batch)"
   ]
  },
  {
   "cell_type": "code",
   "execution_count": 14,
   "metadata": {},
   "outputs": [],
   "source": [
    "@tff.tf_computation(MODEL_TYPE, BATCH_TYPE, tf.float32)\n",
    "def batch_train(initial_model, batch, learning_rate):\n",
    "  # Define a group of model variables and set them to `initial_model`. Must\n",
    "  # be defined outside the @tf.function.\n",
    "  model_vars = collections.OrderedDict([\n",
    "      (name, tf.Variable(name=name, initial_value=value))\n",
    "      for name, value in initial_model.items()\n",
    "  ])\n",
    "  optimizer = tf.keras.optimizers.SGD(learning_rate)\n",
    "\n",
    "  @tf.function\n",
    "  def _train_on_batch(model_vars, batch):\n",
    "    # Perform one step of gradient descent using loss from `batch_loss`.\n",
    "    with tf.GradientTape() as tape:\n",
    "      loss = forward_pass(model_vars, batch)\n",
    "    grads = tape.gradient(loss, model_vars)\n",
    "    optimizer.apply_gradients(\n",
    "        zip(tf.nest.flatten(grads), tf.nest.flatten(model_vars)))\n",
    "    return model_vars\n",
    "\n",
    "  return _train_on_batch(model_vars, batch)"
   ]
  },
  {
   "cell_type": "code",
   "execution_count": 15,
   "metadata": {},
   "outputs": [
    {
     "data": {
      "text/plain": [
       "'(<initial_model=<weights=float32[784,10],bias=float32[10]>,batch=<x=float32[?,784],y=int32[?]>,learning_rate=float32> -> <weights=float32[784,10],bias=float32[10]>)'"
      ]
     },
     "execution_count": 15,
     "metadata": {},
     "output_type": "execute_result"
    }
   ],
   "source": [
    "str(batch_train.type_signature)"
   ]
  },
  {
   "cell_type": "code",
   "execution_count": 16,
   "metadata": {},
   "outputs": [],
   "source": [
    "model = initial_model\n",
    "losses = []\n",
    "for _ in range(5):\n",
    "  model = batch_train(model, sample_batch, 0.1)\n",
    "  losses.append(batch_loss(model, sample_batch))"
   ]
  },
  {
   "cell_type": "code",
   "execution_count": 17,
   "metadata": {},
   "outputs": [
    {
     "data": {
      "text/plain": [
       "[0.39846364, 0.25261888, 0.19375294, 0.16018456, 0.1380317]"
      ]
     },
     "execution_count": 17,
     "metadata": {},
     "output_type": "execute_result"
    }
   ],
   "source": [
    "losses"
   ]
  },
  {
   "cell_type": "code",
   "execution_count": 18,
   "metadata": {},
   "outputs": [],
   "source": [
    "LOCAL_DATA_TYPE = tff.SequenceType(BATCH_TYPE)\n",
    "\n",
    "@tff.federated_computation(MODEL_TYPE, tf.float32, LOCAL_DATA_TYPE)\n",
    "def local_train(initial_model, learning_rate, all_batches):\n",
    "\n",
    "  @tff.tf_computation(LOCAL_DATA_TYPE, tf.float32)\n",
    "  def _insert_learning_rate_to_sequence(dataset, learning_rate):\n",
    "    return dataset.map(lambda x: (x, learning_rate))\n",
    "\n",
    "  batches_with_learning_rate = _insert_learning_rate_to_sequence(all_batches, learning_rate)\n",
    "\n",
    "  # Mapping function to apply to each batch.\n",
    "  @tff.federated_computation(MODEL_TYPE, batches_with_learning_rate.type_signature.element)\n",
    "  def batch_fn(model, batch_with_lr):\n",
    "    batch, lr = batch_with_lr\n",
    "    return batch_train(model, batch, lr)\n",
    "\n",
    "  return tff.sequence_reduce(batches_with_learning_rate, initial_model, batch_fn)"
   ]
  },
  {
   "cell_type": "code",
   "execution_count": 19,
   "metadata": {},
   "outputs": [
    {
     "data": {
      "text/plain": [
       "'(<initial_model=<weights=float32[784,10],bias=float32[10]>,learning_rate=float32,all_batches=<x=float32[?,784],y=int32[?]>*> -> <weights=float32[784,10],bias=float32[10]>)'"
      ]
     },
     "execution_count": 19,
     "metadata": {},
     "output_type": "execute_result"
    }
   ],
   "source": [
    "str(local_train.type_signature)"
   ]
  },
  {
   "cell_type": "code",
   "execution_count": 20,
   "metadata": {},
   "outputs": [],
   "source": [
    "locally_trained_model = local_train(initial_model, 0.1, federated_train_data[5])"
   ]
  },
  {
   "cell_type": "code",
   "execution_count": 21,
   "metadata": {},
   "outputs": [],
   "source": [
    "@tff.federated_computation(MODEL_TYPE, LOCAL_DATA_TYPE)\n",
    "def local_eval(model, all_batches):\n",
    "\n",
    "  @tff.tf_computation(MODEL_TYPE, LOCAL_DATA_TYPE)\n",
    "  def _insert_model_to_sequence(model, dataset):\n",
    "    return dataset.map(lambda x: (model, x))\n",
    "\n",
    "  model_plus_data = _insert_model_to_sequence(model, all_batches)\n",
    "\n",
    "  @tff.tf_computation(tf.float32, batch_loss.type_signature.result)\n",
    "  def tff_add(accumulator, arg):\n",
    "    return accumulator + arg\n",
    "\n",
    "  return tff.sequence_reduce(\n",
    "      tff.sequence_map(\n",
    "          batch_loss,\n",
    "          model_plus_data), 0., tff_add)"
   ]
  },
  {
   "cell_type": "code",
   "execution_count": 22,
   "metadata": {},
   "outputs": [
    {
     "data": {
      "text/plain": [
       "'(<model=<weights=float32[784,10],bias=float32[10]>,all_batches=<x=float32[?,784],y=int32[?]>*> -> float32)'"
      ]
     },
     "execution_count": 22,
     "metadata": {},
     "output_type": "execute_result"
    }
   ],
   "source": [
    "str(local_eval.type_signature)"
   ]
  },
  {
   "cell_type": "code",
   "execution_count": 23,
   "metadata": {},
   "outputs": [
    {
     "name": "stdout",
     "output_type": "stream",
     "text": [
      "initial_model loss = 23.025854\n",
      "locally_trained_model loss = 0.8081478\n"
     ]
    }
   ],
   "source": [
    "print('initial_model loss =', local_eval(initial_model,\n",
    "                                         federated_train_data[5]))\n",
    "print('locally_trained_model loss =',\n",
    "      local_eval(locally_trained_model, federated_train_data[5]))"
   ]
  },
  {
   "cell_type": "code",
   "execution_count": 24,
   "metadata": {},
   "outputs": [
    {
     "name": "stdout",
     "output_type": "stream",
     "text": [
      "initial_model loss = 23.025854\n",
      "locally_trained_model loss = 79.414024\n"
     ]
    }
   ],
   "source": [
    "print('initial_model loss =', local_eval(initial_model,\n",
    "                                         federated_train_data[0]))\n",
    "print('locally_trained_model loss =',\n",
    "      local_eval(locally_trained_model, federated_train_data[0]))"
   ]
  },
  {
   "cell_type": "code",
   "execution_count": 25,
   "metadata": {},
   "outputs": [],
   "source": [
    "SERVER_MODEL_TYPE = tff.type_at_server(MODEL_TYPE)\n",
    "CLIENT_DATA_TYPE = tff.type_at_clients(LOCAL_DATA_TYPE)"
   ]
  },
  {
   "cell_type": "code",
   "execution_count": 26,
   "metadata": {},
   "outputs": [],
   "source": [
    "@tff.federated_computation(SERVER_MODEL_TYPE, CLIENT_DATA_TYPE)\n",
    "def federated_eval(model, data):\n",
    "  return tff.federated_mean(\n",
    "      tff.federated_map(local_eval, [tff.federated_broadcast(model),  data]))"
   ]
  },
  {
   "cell_type": "code",
   "execution_count": 27,
   "metadata": {},
   "outputs": [
    {
     "name": "stdout",
     "output_type": "stream",
     "text": [
      "initial_model loss = 23.025852\n",
      "locally_trained_model loss = 83.617744\n"
     ]
    }
   ],
   "source": [
    "print('initial_model loss =', federated_eval(initial_model,\n",
    "                                             federated_train_data))\n",
    "print('locally_trained_model loss =',\n",
    "      federated_eval(locally_trained_model, federated_train_data))"
   ]
  },
  {
   "cell_type": "code",
   "execution_count": 28,
   "metadata": {},
   "outputs": [],
   "source": [
    "SERVER_FLOAT_TYPE = tff.type_at_server(tf.float32)\n",
    "\n",
    "\n",
    "@tff.federated_computation(SERVER_MODEL_TYPE, SERVER_FLOAT_TYPE,\n",
    "                           CLIENT_DATA_TYPE)\n",
    "def federated_train(model, learning_rate, data):\n",
    "  # Perform federated averaging here\n",
    "  return tff.federated_mean(\n",
    "      tff.federated_map(local_train, [\n",
    "          tff.federated_broadcast(model),\n",
    "          tff.federated_broadcast(learning_rate), data\n",
    "      ]))"
   ]
  },
  {
   "cell_type": "code",
   "execution_count": 29,
   "metadata": {},
   "outputs": [
    {
     "name": "stdout",
     "output_type": "stream",
     "text": [
      "round 0, loss=20.691389083862305\n",
      "round 1, loss=19.161178588867188\n",
      "round 2, loss=17.984769821166992\n",
      "round 3, loss=17.064708709716797\n",
      "round 4, loss=16.326141357421875\n"
     ]
    }
   ],
   "source": [
    "model = initial_model\n",
    "learning_rate = 0.1\n",
    "for round_num in range(5):\n",
    "  model = federated_train(model, learning_rate, federated_train_data)\n",
    "  learning_rate = learning_rate * 0.9\n",
    "  loss = federated_eval(model, federated_train_data)\n",
    "  print('round {}, loss={}'.format(round_num, loss))"
   ]
  },
  {
   "cell_type": "code",
   "execution_count": 30,
   "metadata": {},
   "outputs": [
    {
     "name": "stdout",
     "output_type": "stream",
     "text": [
      "initial_model test loss = 23.025852\n",
      "trained_model test loss = 16.38777\n"
     ]
    }
   ],
   "source": [
    "print('initial_model test loss =',\n",
    "      federated_eval(initial_model, federated_test_data))\n",
    "print('trained_model test loss =', federated_eval(model, federated_test_data))"
   ]
  },
  {
   "cell_type": "code",
   "execution_count": null,
   "metadata": {},
   "outputs": [],
   "source": []
  }
 ],
 "metadata": {
  "kernelspec": {
   "display_name": "Python 3.10.6 ('MLAI')",
   "language": "python",
   "name": "python3"
  },
  "language_info": {
   "codemirror_mode": {
    "name": "ipython",
    "version": 3
   },
   "file_extension": ".py",
   "mimetype": "text/x-python",
   "name": "python",
   "nbconvert_exporter": "python",
   "pygments_lexer": "ipython3",
   "version": "3.10.6 | packaged by conda-forge | (main, Oct 24 2022, 16:02:16) [MSC v.1916 64 bit (AMD64)]"
  },
  "vscode": {
   "interpreter": {
    "hash": "fd18e2703a944517b229c10d426dc40a3613b9589690a53834e185b69f2ae3d3"
   }
  }
 },
 "nbformat": 4,
 "nbformat_minor": 2
}
